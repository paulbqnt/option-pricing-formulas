{
 "cells": [
  {
   "cell_type": "code",
   "execution_count": 1,
   "id": "initial_id",
   "metadata": {
    "ExecuteTime": {
     "end_time": "2025-05-24T08:54:02.333129Z",
     "start_time": "2025-05-24T08:54:01.730191Z"
    }
   },
   "outputs": [],
   "source": [
    "import numpy as np\n",
    "from scipy.stats import norm\n",
    "from IPython.core.display import Markdown"
   ]
  },
  {
   "cell_type": "code",
   "execution_count": 2,
   "id": "f0922ed0f9097d1b",
   "metadata": {
    "ExecuteTime": {
     "end_time": "2025-05-20T18:51:36.262287Z",
     "start_time": "2025-05-20T18:51:36.259169Z"
    }
   },
   "outputs": [],
   "source": [
    "### 1.1.1 The Black-Scholes Option Pricing Formula\n",
    "def black_scholes(S, K, T, r, sigma, option_type='call'):\n",
    "    '''Black and Scholes (1973)'''\n",
    "    d1 = (np.log(S / K) + (r + 0.5 * (sigma ** 2) / 2) * T) / (sigma * np.sqrt(T))\n",
    "    d2 = d1 - sigma * np.sqrt(T)\n",
    "\n",
    "    if option_type == 'call':\n",
    "        option_price = S * norm.cdf(d1) - K * np.exp(-r * T) * norm.cdf(d2)\n",
    "    elif option_type == 'put':\n",
    "        option_price = K * np.exp(-r * T) * norm.cdf(-d2) - S * norm.cdf(-d1)\n",
    "    else:\n",
    "        raise ValueError(\"option_type must be either 'call' or 'put'\")\n",
    "    return option_price"
   ]
  },
  {
   "cell_type": "code",
   "execution_count": 3,
   "id": "14541be67c33df7b",
   "metadata": {
    "ExecuteTime": {
     "end_time": "2025-05-20T18:51:36.349121Z",
     "start_time": "2025-05-20T18:51:36.347056Z"
    }
   },
   "outputs": [],
   "source": [
    "### 1.1.2 Options on Stock Indexes\n",
    "def black_scholes_merton(S, K, T, r, sigma, q, option_type='call'):\n",
    "    '''Black and Scholes Merton (1973)'''\n",
    "    d1 = (np.log(S / K) + (r - q + (sigma ** 2) / 2) * T) / (sigma * np.sqrt(T))\n",
    "    d2 = d1 - sigma * np.sqrt(T)\n",
    "\n",
    "    if option_type == 'call':\n",
    "        option_price = S * norm.cdf(d1) - K * np.exp(-r * T) * norm.cdf(d2)\n",
    "    elif option_type == 'put':\n",
    "        option_price = K * np.exp(-r * T) * norm.cdf(-d2) - S * norm.cdf(-d1)\n",
    "    else:\n",
    "        raise ValueError(\"option_type must be either 'call' or 'put'\")\n",
    "    return option_price"
   ]
  },
  {
   "cell_type": "code",
   "execution_count": 4,
   "id": "4d24d97f9c61a812",
   "metadata": {
    "ExecuteTime": {
     "end_time": "2025-05-20T18:51:36.398766Z",
     "start_time": "2025-05-20T18:51:36.396191Z"
    }
   },
   "outputs": [],
   "source": [
    "### 1.1.3 Options on Futures\n",
    "def black76(F, K, T, r, sigma, option_type='call'):\n",
    "    d1 = (np.log(F / K) + ((sigma ** 2) / 2) * T) / (sigma * np.sqrt(T))\n",
    "    d2 = d1 - sigma * np.sqrt(T)\n",
    "    if option_type == 'call':\n",
    "        option_price = F * norm.cdf(d1) - K * np.exp(-r * T) * norm.cdf(d2)\n",
    "    elif option_type == 'put':\n",
    "        option_price = K * np.exp(-r * T) * norm.cdf(-d2) - F * norm.cdf(-d1)\n",
    "    else:\n",
    "        raise ValueError(\"option_type must be either 'call' or 'put'\")\n",
    "    return option_price"
   ]
  },
  {
   "cell_type": "code",
   "execution_count": 5,
   "id": "2910bd6105086b4b",
   "metadata": {
    "ExecuteTime": {
     "end_time": "2025-05-20T18:51:36.445119Z",
     "start_time": "2025-05-20T18:51:36.442622Z"
    }
   },
   "outputs": [],
   "source": [
    "def asay(F, K, T, r, sigma, option_type='call'):\n",
    "    '''Margined Options on Futures'''\n",
    "    d1 = (np.log(F / K) + ((sigma ** 2) / 2) * T) / (sigma * np.sqrt(T))\n",
    "    d2 = d1 - sigma * np.sqrt(T)\n",
    "    if option_type == 'call':\n",
    "        option_price = F * norm.cdf(d1) - K * np.exp(-r * T) * norm.cdf(d2)\n",
    "    elif option_type == 'put':\n",
    "        option_price = K * np.exp(-r * T) * norm.cdf(-d2) - F * norm.cdf(-d1)\n",
    "    else:\n",
    "        raise ValueError(\"option_type must be either 'call' or 'put'\")"
   ]
  },
  {
   "cell_type": "code",
   "execution_count": 6,
   "id": "2b11c1004d8bf351",
   "metadata": {
    "ExecuteTime": {
     "end_time": "2025-05-20T18:51:36.492851Z",
     "start_time": "2025-05-20T18:51:36.490018Z"
    }
   },
   "outputs": [],
   "source": [
    "### 1.1.5 Currency Options\n",
    "def garman_kohlagen(S, K, T, r, rf, sigma, option_type='call'):\n",
    "    d1 = (np.log(S / K) + (r - rf - (sigma ** 2) / 2) * T) / (sigma * np.sqrt(T))\n",
    "    d2 = d1 - sigma * np.sqrt(T)\n",
    "    if option_type == 'call':\n",
    "        option_price = S * np.exp(-rf * T) * norm.cdf(d1) - K * np.exp(-r * T) * norm.cdf(d2)\n",
    "    elif option_type == 'put':\n",
    "        option_price = K * np.exp(-r * T) * norm.cdf(-d2) - S * np.exp(-rf * T) * norm.cdf(-d1)\n",
    "    else:\n",
    "        raise ValueError(\"option_type must be either 'call' or 'put'\")"
   ]
  },
  {
   "cell_type": "code",
   "execution_count": 7,
   "id": "72d11677b8c26685",
   "metadata": {
    "ExecuteTime": {
     "end_time": "2025-05-20T18:51:36.540496Z",
     "start_time": "2025-05-20T18:51:36.536842Z"
    }
   },
   "outputs": [
    {
     "data": {
      "text/plain": [
       "'\\nb = r               Black-Scholes (1973) stock option model\\nb = r - q           Merton (1973) stock option model with continuous dividend yield q\\nb = 0               Black (1976) futures option model.\\nb = 0 and r = 0     Asay (1982) margined futures option model\\nb = r - rf          Garman and Kohlhagen (1983) currency option model\\n'"
      ]
     },
     "execution_count": 7,
     "metadata": {},
     "output_type": "execute_result"
    }
   ],
   "source": [
    "\"\"\"\n",
    "b = r               Black-Scholes (1973) stock option model\n",
    "b = r - q           Merton (1973) stock option model with continuous dividend yield q\n",
    "b = 0               Black (1976) futures option model.\n",
    "b = 0 and r = 0     Asay (1982) margined futures option model\n",
    "b = r - rf          Garman and Kohlhagen (1983) currency option model\n",
    "\"\"\""
   ]
  },
  {
   "cell_type": "code",
   "execution_count": 8,
   "id": "c0594b3c8f8514cf",
   "metadata": {
    "ExecuteTime": {
     "end_time": "2025-05-20T18:51:36.592602Z",
     "start_time": "2025-05-20T18:51:36.590410Z"
    }
   },
   "outputs": [],
   "source": [
    "### 1.1.6 The Generalized Black-Scholes-Merton Option Pricing Formula\n",
    "def generalized_black_scholes_merton(S, K, T, r, b, rf, sigma, option_type='call'):\n",
    "    '''Generalized by incorporation a cost-of-carry rate b'''\n",
    "    d1 = (np.log(S / K) + (b + (sigma ** 2) / 2) * T) / (sigma * np.sqrt(T))\n",
    "    d2 = d1 - sigma * np.sqrt(T)\n",
    "\n",
    "    if option_type == 'call':\n",
    "        option_price = S * np.exp((b - r) * T) * norm.cdf(d1) - K * np.exp(-r * T) * norm.cdf(d2)\n",
    "    elif option_type == 'put':\n",
    "        option_price = K * np.exp(-r * T) * norm.cdf(-d2) - S * np.exp((b -r) * T) * norm.cdf(-d1)\n",
    "    else:\n",
    "        raise ValueError(\"option_type must be either 'call' or 'put'\")\n",
    "    return option_price"
   ]
  },
  {
   "cell_type": "markdown",
   "id": "ba48114a2ceccdf",
   "metadata": {},
   "source": [
    "$$ 1 + 2$$"
   ]
  },
  {
   "cell_type": "markdown",
   "id": "b7b441d9c20b3428",
   "metadata": {},
   "source": [
    "### 1.2 Parities and Symmetries\n",
    "\n",
    "#### 1.2.1 Put-Call Parity for European Options\n",
    "\n",
    "##### Stock Options\n",
    "\n",
    "$$ c = p + S - K^{-rT}, \\hspace{1cm} p = c - S + Ke^{-rT}$$\n",
    "\n",
    "\n",
    "##### Option on a Stock Paying Continuous Dividend Yield\n",
    "\n",
    "$$ c = p + Se^{-qT} - Ke^{-rT}, \\hspace{1cm} p = c - Se^{-qT} + Ke^{-rT}$$ \n",
    "\n",
    "##### Option on Futures\n",
    "\n",
    "$$ c = p + \\left( F - K \\right) e^{-rT}, \\hspace{1cm}  p = c - \\left( F - K \\right) e^{-rT} $$\n",
    "\n",
    "##### Fully Margined Options on Futures\n",
    "\n",
    "$$ c = p + F - K, \\hspace{1cm} p = c - F + K$$\n",
    "\n",
    "##### Currency Option \n",
    "\n",
    "$$ c = p + Se^{-r_{f}T} - Ke^{-rT}, \\hspace{1cm} p = c - Se^{-r_{f}T} + Ke^{-rT} $$\n",
    "\n",
    "##### Put-Call Parity for the Generalized Black-Scholes Formula\n",
    "\n",
    "$$ c = p + Se^{(b - r) T} - Ke^{-rT}, \\hspace{1cm} p = c - Se^{(b - r) T} + Ke^{-rT}$$\n",
    "\n",
    "- $b = r  = $ Cost-of-carry on a nondividend-paying stock.\n",
    "- $b = r - q = $ Cost-of-carry on a stock that pays a continuous dividend yield equal to $q$.\n",
    "- $b = 0 = $ Cost-of-carry on future constract.\n",
    "- $b = 0$ and $r = 0 $ Gives the Asay (1982) margined futures option model.\n",
    "- $b = r - r_{f} = $ Cost-of-carry on a currency position.\n",
    "  \n"
   ]
  },
  {
   "cell_type": "markdown",
   "id": "449dd881-3ac3-481a-8494-0e67bbb613f0",
   "metadata": {},
   "source": [
    "#### 1.2.2 At-the-Money Forward Value Symmetry\n",
    "\n",
    "$$ Se^{b T} = K \\hspace{1cm} or \\hspace{1cm} S = Ke^{-b T} $$"
   ]
  },
  {
   "cell_type": "markdown",
   "id": "dd8bc24f-568d-4f79-994d-07fe4d5b0fd1",
   "metadata": {},
   "source": [
    "#### 1.2.3 Put Call-Symmetry\n",
    "\n",
    "$$ c \\left(S, K, T, b, \\sigma \\right) = \\frac{K}{Se^{bT}} p \\left( S, \\frac{\\left( Se^{bT} \\right)^{2}}{K}, T, r, b, \\sigma \\right) $$\n",
    "\n",
    "A call with strike $K$ is equivalent to $\\frac{K}{Se^{bT}}$ puts with strike $\\frac{\\left( Se^{bT}\\right) ^{2}}{K}$."
   ]
  },
  {
   "cell_type": "markdown",
   "id": "599a82ae-bff0-4fa5-b6b7-c9fdd31cc987",
   "metadata": {},
   "source": [
    "#### 1.2.4 Put-Call Supersymmetry\n",
    "\n",
    "$$ c \\left( S, K, T, r, b, \\sigma \\right) = p \\left( -S, -K, T, r, b, -\\sigma \\right)$$\n",
    "\n",
    "$$ p \\left( S, K, T, r, b, \\sigma \\right) = -c \\left( S, K, T, r, b, -\\sigma \\right)$$\n",
    "\n",
    "The value of a call is equal to the value of minus a put with negative volatility and vice-versa"
   ]
  },
  {
   "cell_type": "markdown",
   "id": "07108033-1b2d-4a72-b392-e5de697546e9",
   "metadata": {},
   "source": [
    "#### 1.2.5 Black-Scholes-Merton on Variance Form\n",
    "\n",
    "$ d_{1} = \\frac{ln\\left(S/K\\right) + \\left( b + V/2 \\right) T}{\\sqrt{VT}}, \\hspace{1cm} d_{2} = d_{1} - \\sqrt{VT}$"
   ]
  },
  {
   "cell_type": "markdown",
   "id": "861f9684-60e5-4d62-a16b-0156dc37f2c6",
   "metadata": {},
   "source": [
    "#### 1.3.1 The Bachelier Model\n",
    "\n",
    "Bachelier assumed a normal distribution for the asset price, an arithmetic Brownian motion process.\n",
    "\n",
    "$$dS=\\sigma dz$$\n",
    "\n",
    "$S$ is the asset price, $dz$ a Winer process (implies positive probability for observing a negative asset price.\n",
    "\n",
    "$ c = \\left( S - K \\right) N \\left(d_{1} \\right) + \\sigma \\sqrt{T} n \\left( d_{1} \\right)$\n",
    "\n",
    "$ p = \\left( K - S \\right) N \\left( -d_{1} \\right) + \\sigma \\sqrt{T} n \\left(d_{1}\\right)$\n",
    "\n",
    "\n",
    "- S = Stock Price\n",
    "- K = Strike Price of option\n",
    "- T = Time to expiration in years\n",
    "- $\\sigma$ = Volatility of the underlying asset price\n",
    "- $N\\left(x\\right)$ = The cumulative normal distribution function\n",
    "- $n\\left( x \\right)$ = The standard normal density function\n",
    "\n",
    "##### At-the-Money Approximation\n",
    "\n",
    "$ c = p \\approx \\sigma \\sqrt{\\frac{T}{2 \\pi }} \\approx \\sigma 0.4 \\sqrt{T}$\n",
    "\n",
    "##### Modified Bachelier Model\n",
    "\n",
    "With BSM arguments, we can correct Bachelier model to take into account the time value of money in a risk-neutral world.\n",
    "\n",
    "$ c = SN \\left(d_{1}\\right) - Ke^{-rT} N\\left(d_{1}\\right) + \\sigma \\sqrt{T} n\\left(d_{1} \\right)$\n",
    "\n",
    "$ p =  Ke^{-rT} N\\left(-d_{1}\\right) - SN \\left(-d_{1}\\right) + \\sigma \\sqrt{T} n\\left(d_{1} \\right)$\n",
    "\n",
    "$d_{1} = \\frac{S - K}{\\sigma \\sqrt{t}}$\n",
    "\n"
   ]
  },
  {
   "cell_type": "markdown",
   "id": "516384ad-aa8c-47c7-b180-e1b22fd8e2a8",
   "metadata": {},
   "source": [
    "#### 1.3.2 The Sprenkle Model\n",
    "\n",
    "Assumes the stock price is lognormally distributed, asset price follows a geometric Brownian motion (as Black Scholes 1973). Sprenkle allowed a drift in the asset price. He assumes that today's value was equal to the expected value at maturity.\n",
    "\n",
    "$c = Se^{\\rho T} N \\left( d_{1} \\right) - \\left( 1 - k \\right) KN \\left(d_{2}\\right) $\n",
    "\n",
    "\n",
    "$d_{1} = \\frac{ln\\left(S/K\\right) + \\left(\\rho + \\sigma^{2}/2 \\right) T}{\\sigma \\sqrt{T}}$\n",
    "\n",
    "$d_2 = d_1 - \\sigma \\sqrt{T}$\n",
    "\n",
    "\n",
    "where $\\rho$ is the average rate of growth of the asset price and $k$ is the adjustement for the degree of market risk aversion."
   ]
  },
  {
   "cell_type": "markdown",
   "id": "afcc8acb-feeb-4195-bf0d-9ffae58b8892",
   "metadata": {},
   "source": [
    "#### 1.3.3 The Boness Model\n",
    "\n",
    "Assumed a lognormal asset price, where $\\rho$ is the expected rate of return to the asset.\n",
    "\n",
    "$ c = SN \\left( d_1 \\right) - Ke^{-\\rho T} N \\left( d_2 \\right) $\n",
    "\n",
    "$ d_1 = \\frac{ln \\left( S / K \\right) + \\left( \\rho + \\sigma^2 / 2 \\right) T}{\\sigma \\sqrt{T} } $\n",
    "\n",
    "$d_2 = d_1 - \\sigma \\sqrt{T}$"
   ]
  },
  {
   "cell_type": "markdown",
   "id": "ecc590b0-aa66-4621-850b-9da5fe6fbb82",
   "metadata": {},
   "source": [
    "#### 1.3.4 The Samuelson Model\n",
    "\n",
    "Assumed the asset price follows a geometric Brownian motion with positive drif, $\\rho$. He allowed for positive interest rates and a risk premium\n",
    "\n",
    "$ c = Se^{\\left( \\rho - w \\right) T} N \\left( d_1 \\right) - Ke^{-w T} N \\left( d_2 \\right)$\n",
    "\n",
    "$ d_1 = \\frac{ln \\left( S / K \\right) + \\left( \\rho + \\sigma^2 / 2 \\right) T}{\\sigma \\sqrt{T} } $\n",
    "\n",
    "$d_2 = d_1 - \\sigma \\sqrt{T}$\n",
    "\n",
    "$\\rho$ is the average rate of growth of the share price and $w$ is the average rate of growth in the value of the call. Samuelson model can take into account that the expected return from the option is larger than that of the underlying asset $w \\gt \\rho$.\n"
   ]
  },
  {
   "cell_type": "markdown",
   "id": "47f6cdfd-11c8-4068-aa7d-fd4261e61598",
   "metadata": {},
   "source": [
    "#### 1.4.1 Ito's Lemma\n",
    "\n",
    "TODO"
   ]
  },
  {
   "cell_type": "markdown",
   "id": "3a9fd5aa-1162-4c05-a4d1-bcb0ebe75c11",
   "metadata": {},
   "source": [
    "#### 1.4.2 Dynamic Hedging\n",
    "\n",
    "##### Derman-Taleb Method\n",
    "\n",
    "Using BSM and discounting the expected pay off from an option based on an assumption on the distribution of the underlying asset at maturity. Assuming the underlying stock is log-normal distributed we get\n",
    "\n",
    "\n",
    "$ c = e^{-RT} \\left( E[S - K]_{+} \\right)$\n",
    "\n",
    "$ = e^{-RT} [Se^{\\mu T} N \\left( d_1 \\right) - KN \\left( d_2 \\right)],$\n",
    "\n",
    "$ d_1 = \\frac{ln \\left( S / K \\right) + \\left( \\mu + \\sigma^2 / 2 \\right) T}{\\sigma \\sqrt{T} }, \\hspace{1cm} d_2 = d_1 - \\sigma \\sqrt{T} $\n",
    "\n",
    "For put\n",
    "\n",
    "$ p = e^{-RT} \\left( E[K - S]_{+} \\right)$\n",
    "\n",
    "$ = e^{-RT} [KN \\left( - d_2 \\right) - Se^{\\mu T} N \\left( d_1 \\right)],$\n",
    "\n",
    "$\\mu$ is the average rate of growth of the share price over the lifetime of the option. $R$ is the discount rate including a unknown risk premium.\n",
    "\n",
    "Current value of the forward price with delivery price $K$ must then be \n",
    "\n",
    "$F_V = S - Ke^{-rT}$\n",
    "\n",
    "$r$ is the risk-free zero coupon rate covering the period from now until the expiration of the forward contract $T$.\n",
    "\n",
    "put-call parity: \n",
    "\n",
    "$F_V = c - p$\n",
    "\n",
    "A forward expiring at the same time as the option must be equal to a long European call, $c$, plus a short put $p$. Combining last two equations:\n",
    "\n",
    "$F_V = c - p = e^{-RT} [Se^{\\mu T} - K]$\n",
    "\n",
    "To avoid arbitrage opportunities both $\\mu$ and $R$ must be set equal to the risk free rate $r$, Another way to think about this is that we now have removed all risk in the option and that we, therefore, can use risk-neutral valuation of the options, we end up with\n",
    "\n",
    "$ c = SN \\left( d_1 \\right) - Ke^{-\\rho T} N \\left( d_2 \\right) $\n",
    "\n",
    "$ d_1 = \\frac{ln \\left( S / K \\right) + \\left( r + \\sigma^2 / 2 \\right) T}{\\sigma \\sqrt{T} } $\n",
    "\n",
    "$d_2 = d_1 - \\sigma \\sqrt{T}$\n"
   ]
  },
  {
   "cell_type": "markdown",
   "id": "7ae56971-b5e0-4ca2-88e5-e53d59b01bcc",
   "metadata": {},
   "source": [
    "##### Forward Price\n",
    "\n",
    "The forward price of a financial asset is purely based on arbitrage and not on expectations. The fair initial contract price $F$ that makes the initial value of a forward contract zero is\n",
    "\n",
    "$$F = Se^{bT}$$\n",
    "\n",
    "After initiated the forward contract, the value is naturally related to the difference between the current spot price and the agreed upon forward price $F_A$. $F_A$ was initially equal to $F$, the fair arbitrage value of a forward contract after initialized must be\n",
    "\n",
    "$$ F_V = e^{-rT} [Se^{bT} - F_A ]$$\n",
    "\n",
    "Simply the discounted difference between the current spot price and the agreed upon foward price, but taking into account the cost-of-carry of holding the underlying asset."
   ]
  }
 ],
 "metadata": {
  "kernelspec": {
   "display_name": "Python 3 (ipykernel)",
   "language": "python",
   "name": "python3"
  },
  "language_info": {
   "codemirror_mode": {
    "name": "ipython",
    "version": 3
   },
   "file_extension": ".py",
   "mimetype": "text/x-python",
   "name": "python",
   "nbconvert_exporter": "python",
   "pygments_lexer": "ipython3",
   "version": "3.13.3"
  }
 },
 "nbformat": 4,
 "nbformat_minor": 5
}
