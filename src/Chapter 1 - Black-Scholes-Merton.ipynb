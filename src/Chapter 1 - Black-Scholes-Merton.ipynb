{
 "cells": [
  {
   "cell_type": "code",
   "execution_count": 14,
   "id": "initial_id",
   "metadata": {
    "ExecuteTime": {
     "end_time": "2025-05-19T20:42:50.028824Z",
     "start_time": "2025-05-19T20:42:50.026423Z"
    }
   },
   "outputs": [],
   "source": [
    "import numpy as np\n",
    "from scipy.stats import norm\n",
    "from IPython.core.display import Markdown"
   ]
  },
  {
   "cell_type": "code",
   "execution_count": 8,
   "id": "f0922ed0f9097d1b",
   "metadata": {
    "ExecuteTime": {
     "end_time": "2025-05-19T20:02:04.817005Z",
     "start_time": "2025-05-19T20:02:04.814426Z"
    }
   },
   "outputs": [],
   "source": [
    "### 1.1.1 The Black-Scholes Option Pricing Formula\n",
    "def black_scholes(S, K, T, r, sigma, option_type='call'):\n",
    "    '''Black and Scholes (1973)'''\n",
    "    d1 = (np.log(S / K) + (r + 0.5 * (sigma ** 2) / 2) * T) / (sigma * np.sqrt(T))\n",
    "    d2 = d1 - sigma * np.sqrt(T)\n",
    "\n",
    "    if option_type == 'call':\n",
    "        option_price = S * norm.cdf(d1) - K * np.exp(-r * T) * norm.cdf(d2)\n",
    "    elif option_type == 'put':\n",
    "        option_price = K * np.exp(-r * T) * norm.cdf(-d2) - S * norm.cdf(-d1)\n",
    "    else:\n",
    "        raise ValueError(\"option_type must be either 'call' or 'put'\")\n",
    "    return option_price"
   ]
  },
  {
   "cell_type": "code",
   "execution_count": 7,
   "id": "14541be67c33df7b",
   "metadata": {
    "ExecuteTime": {
     "end_time": "2025-05-19T19:16:55.600167Z",
     "start_time": "2025-05-19T19:16:55.595543Z"
    }
   },
   "outputs": [
    {
     "data": {
      "text/plain": [
       "np.float64(7.458941380440123)"
      ]
     },
     "execution_count": 7,
     "metadata": {},
     "output_type": "execute_result"
    }
   ],
   "source": [
    "### 1.1.2 Options on Stock Indexes\n",
    "def black_scholes_merton(S, K, T, r, sigma, q, option_type='call'):\n",
    "    '''Black and Scholes Merton (1973)'''\n",
    "    d1 = (np.log(S / K) + (r - q + (sigma ** 2) / 2) * T) / (sigma * np.sqrt(T))\n",
    "    d2 = d1 - sigma * np.sqrt(T)\n",
    "\n",
    "    if option_type == 'call':\n",
    "        option_price = S * norm.cdf(d1) - K * np.exp(-r * T) * norm.cdf(d2)\n",
    "    elif option_type == 'put':\n",
    "        option_price = K * np.exp(-r * T) * norm.cdf(-d2) - S * norm.cdf(-d1)\n",
    "    else:\n",
    "        raise ValueError(\"option_type must be either 'call' or 'put'\")\n",
    "    return option_price"
   ]
  },
  {
   "cell_type": "code",
   "execution_count": 9,
   "id": "4d24d97f9c61a812",
   "metadata": {
    "ExecuteTime": {
     "end_time": "2025-05-19T20:08:21.107519Z",
     "start_time": "2025-05-19T20:08:21.105263Z"
    }
   },
   "outputs": [],
   "source": [
    "### 1.1.3 Options on Futures\n",
    "def black76(F, K, T, r, sigma, option_type='call'):\n",
    "    d1 = (np.log(F / K) + ((sigma ** 2) / 2) * T) / (sigma * np.sqrt(T))\n",
    "    d2 = d1 - sigma * np.sqrt(T)\n",
    "    if option_type == 'call':\n",
    "        option_price = F * norm.cdf(d1) - K * np.exp(-r * T) * norm.cdf(d2)\n",
    "    elif option_type == 'put':\n",
    "        option_price = K * np.exp(-r * T) * norm.cdf(-d2) - F * norm.cdf(-d1)\n",
    "    else:\n",
    "        raise ValueError(\"option_type must be either 'call' or 'put'\")\n",
    "    return option_price"
   ]
  },
  {
   "cell_type": "code",
   "execution_count": 10,
   "id": "2910bd6105086b4b",
   "metadata": {
    "ExecuteTime": {
     "end_time": "2025-05-19T20:27:02.700239Z",
     "start_time": "2025-05-19T20:27:02.696242Z"
    }
   },
   "outputs": [],
   "source": [
    "def asay(F, K, T, r, sigma, option_type='call'):\n",
    "    '''Margined Options on Futures'''\n",
    "    d1 = (np.log(F / K) + ((sigma ** 2) / 2) * T) / (sigma * np.sqrt(T))\n",
    "    d2 = d1 - sigma * np.sqrt(T)\n",
    "    if option_type == 'call':\n",
    "        option_price = F * norm.cdf(d1) - K * np.exp(-r * T) * norm.cdf(d2)\n",
    "    elif option_type == 'put':\n",
    "        option_price = K * np.exp(-r * T) * norm.cdf(-d2) - F * norm.cdf(-d1)\n",
    "    else:\n",
    "        raise ValueError(\"option_type must be either 'call' or 'put'\")"
   ]
  },
  {
   "cell_type": "code",
   "execution_count": 11,
   "id": "2b11c1004d8bf351",
   "metadata": {
    "ExecuteTime": {
     "end_time": "2025-05-19T20:30:20.544937Z",
     "start_time": "2025-05-19T20:30:20.542045Z"
    }
   },
   "outputs": [],
   "source": [
    "### 1.1.5 Currency Options\n",
    "def garman_kohlagen(S, K, T, r, rf, sigma, option_type='call'):\n",
    "    d1 = (np.log(S / K) + (r - rf - (sigma ** 2) / 2) * T) / (sigma * np.sqrt(T))\n",
    "    d2 = d1 - sigma * np.sqrt(T)\n",
    "    if option_type == 'call':\n",
    "        option_price = S * np.exp(-rf * T) * norm.cdf(d1) - K * np.exp(-r * T) * norm.cdf(d2)\n",
    "    elif option_type == 'put':\n",
    "        option_price = K * np.exp(-r * T) * norm.cdf(-d2) - S * np.exp(-rf * T) * norm.cdf(-d1)\n",
    "    else:\n",
    "        raise ValueError(\"option_type must be either 'call' or 'put'\")"
   ]
  },
  {
   "cell_type": "code",
   "execution_count": null,
   "id": "72d11677b8c26685",
   "metadata": {},
   "outputs": [],
   "source": [
    "\"\"\"\n",
    "b = r               Black-Scholes (1973) stock option model\n",
    "b = r - q           Merton (1973) stock option model with continuous dividend yield q\n",
    "b = 0               Black (1976) futures option model.\n",
    "b = 0 and r = 0     Asay (1982) margined futures option model\n",
    "b = r - rf          Garman and Kohlhagen (1983) currency option model\n",
    "\"\"\""
   ]
  },
  {
   "cell_type": "code",
   "execution_count": 12,
   "id": "c0594b3c8f8514cf",
   "metadata": {
    "ExecuteTime": {
     "end_time": "2025-05-19T20:34:28.566867Z",
     "start_time": "2025-05-19T20:34:28.563643Z"
    }
   },
   "outputs": [],
   "source": [
    "### 1.1.6 The Generalized Black-Scholes-Merton Option Pricing Formula\n",
    "def generalized_black_scholes_merton(S, K, T, r, b, rf, sigma, option_type='call'):\n",
    "    '''Generalized by incorporation a cost-of-carry rate b'''\n",
    "    d1 = (np.log(S / K) + (b + (sigma ** 2) / 2) * T) / (sigma * np.sqrt(T))\n",
    "    d2 = d1 - sigma * np.sqrt(T)\n",
    "\n",
    "    if option_type == 'call':\n",
    "        option_price = S * np.exp((b - r) * T) * norm.cdf(d1) - K * np.exp(-r * T) * norm.cdf(d2)\n",
    "    elif option_type == 'put':\n",
    "        option_price = K * np.exp(-r * T) * norm.cdf(-d2) - S * np.exp((b -r) * T) * norm.cdf(-d1)\n",
    "    else:\n",
    "        raise ValueError(\"option_type must be either 'call' or 'put'\")\n",
    "    return option_price"
   ]
  },
  {
   "cell_type": "markdown",
   "id": "ba48114a2ceccdf",
   "metadata": {},
   "source": [
    "$$ 1 + 2$$"
   ]
  },
  {
   "cell_type": "markdown",
   "id": "b7b441d9c20b3428",
   "metadata": {},
   "source": [
    "### 1.2 Parities and Symmetries\n",
    "\n",
    "#### 1.2.1 Put-Call Parity for European Options\n",
    "\n",
    "##### Stock Options\n",
    "\n",
    "$$ c = p + S - K^{-rT}, \\hspace{1cm} p = c - S + Ke^{-rT}$$\n",
    "\n",
    "\n",
    "##### Option on a Stock Paying Continuous Dividend Yield\n",
    "\n",
    "$$ c = p + Se^{-qT} - Ke^{-rT}, \\hspace{1cm} p = c - Se^{-qT} + Ke^{-rT}$$ \n",
    "\n",
    "##### Option on Futures\n",
    "\n",
    "$$ c = p + \\left( F - K \\right) e^{-rT}, \\hspace{1cm}  p = c - \\left( F - K \\right) e^{-rT} $$\n",
    "\n",
    "##### Fully Margined Options on Futures\n",
    "\n",
    "$$ c = p + F - K, \\hspace{1cm} p = c - F + K$$\n",
    "\n",
    "##### Currency Option \n",
    "\n",
    "$$ c = p + Se^{-r_{f}T} - Ke^{-rT}, \\hspace{1cm} p = c - Se^{-r_{f}T} + Ke^{-rT} $$\n",
    "\n",
    "##### Put-Call Parity for the Generalized Black-Scholes Formula\n",
    "\n",
    "$$ c = p + Se^{(b - r) T} - Ke^{-rT}, \\hspace{1cm} p = c - Se^{(b - r) T} + Ke^{-rT}$$\n",
    "\n",
    "- $b = r  = $ Cost-of-carry on a nondividend-paying stock.\n",
    "- $b = r - q = $ Cost-of-carry on a stock that pays a continuous dividend yield equal to $q$.\n",
    "- $b = 0 = $ Cost-of-carry on future constract.\n",
    "- $b = 0$ and $r = 0 $ Gives the Asay (1982) margined futures option model.\n",
    "- $b = r - r_{f} = $ Cost-of-carry on a currency position.\n",
    "  \n"
   ]
  },
  {
   "cell_type": "markdown",
   "id": "449dd881-3ac3-481a-8494-0e67bbb613f0",
   "metadata": {},
   "source": [
    "#### 1.2.2 At-the-Money Forward Value Symmetry\n",
    "\n",
    "$$ Se^{bT} = K \\hspace{1cm} or \\hspace{1cm} S = Ke^{-bT} $$"
   ]
  },
  {
   "cell_type": "markdown",
   "id": "dd8bc24f-568d-4f79-994d-07fe4d5b0fd1",
   "metadata": {},
   "source": [
    "#### 1.2.3 Put Call-Symmetry"
   ]
  },
  {
   "cell_type": "markdown",
   "id": "599a82ae-bff0-4fa5-b6b7-c9fdd31cc987",
   "metadata": {},
   "source": [
    "#### 1.2.4 Put-Call Supersymmetry"
   ]
  },
  {
   "cell_type": "markdown",
   "id": "07108033-1b2d-4a72-b392-e5de697546e9",
   "metadata": {},
   "source": [
    "#### 1.2.5 Black-Scholes-Merton on Variance Form"
   ]
  },
  {
   "cell_type": "markdown",
   "id": "861f9684-60e5-4d62-a16b-0156dc37f2c6",
   "metadata": {},
   "source": [
    "#### 1.3.1 The Bachelier Model"
   ]
  },
  {
   "cell_type": "markdown",
   "id": "516384ad-aa8c-47c7-b180-e1b22fd8e2a8",
   "metadata": {},
   "source": [
    "#### 1.3.2 The Sprenkle Model"
   ]
  },
  {
   "cell_type": "markdown",
   "id": "afcc8acb-feeb-4195-bf0d-9ffae58b8892",
   "metadata": {},
   "source": [
    "#### 1.3.3 The Boness Model"
   ]
  },
  {
   "cell_type": "markdown",
   "id": "ecc590b0-aa66-4621-850b-9da5fe6fbb82",
   "metadata": {},
   "source": [
    "#### 1.3.4 The Samuelson Model"
   ]
  },
  {
   "cell_type": "markdown",
   "id": "47f6cdfd-11c8-4068-aa7d-fd4261e61598",
   "metadata": {},
   "source": [
    "#### 1.4.1 Ito's Lemma"
   ]
  },
  {
   "cell_type": "markdown",
   "id": "3a9fd5aa-1162-4c05-a4d1-bcb0ebe75c11",
   "metadata": {},
   "source": [
    "#### 1.4.2 Dynamic Hedging\n",
    "\n",
    "##### Derman-Taleb Method\n",
    "\n",
    "##### Forward Price"
   ]
  }
 ],
 "metadata": {
  "kernelspec": {
   "display_name": "Python 3 (ipykernel)",
   "language": "python",
   "name": "python3"
  },
  "language_info": {
   "codemirror_mode": {
    "name": "ipython",
    "version": 3
   },
   "file_extension": ".py",
   "mimetype": "text/x-python",
   "name": "python",
   "nbconvert_exporter": "python",
   "pygments_lexer": "ipython3",
   "version": "3.13.3"
  }
 },
 "nbformat": 4,
 "nbformat_minor": 5
}
